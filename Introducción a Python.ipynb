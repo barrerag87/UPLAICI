{
 "cells": [
  {
   "cell_type": "code",
   "execution_count": 3,
   "metadata": {},
   "outputs": [
    {
     "name": "stdout",
     "output_type": "stream",
     "text": [
      "Media: 54.0\n",
      "Mediana: 55.0\n",
      "Primer cuartil (Q1): 25.0\n",
      "Tercer cuartil (Q3): 77.5\n",
      "Varianza: 982.2222222222222\n",
      "Desviación estándar: 31.340424729448422\n",
      "Rango intercuartílico (IQR): 52.5\n",
      "Rango: 90\n"
     ]
    }
   ],
   "source": [
    "import numpy as np\n",
    "import pandas as pd\n",
    "\n",
    "# Supongamos que tienes un conjunto de datos en una lista\n",
    "datos = [10, 20, 20, 40, 50, 60, 70, 80, 90, 100]\n",
    "\n",
    "# Convirtiendo la lista en un DataFrame de Pandas\n",
    "df = pd.DataFrame(datos, columns=['Datos'])\n",
    "\n",
    "# Medidas de posición\n",
    "media = df['Datos'].mean()\n",
    "mediana = df['Datos'].median()\n",
    "cuartil_1 = df['Datos'].quantile(0.25)\n",
    "cuartil_3 = df['Datos'].quantile(0.75)\n",
    "\n",
    "# Medidas de dispersión\n",
    "varianza = df['Datos'].var()\n",
    "desviacion_estandar = df['Datos'].std()\n",
    "rango_intercuartilico = cuartil_3 - cuartil_1\n",
    "rango = df['Datos'].max() - df['Datos'].min()\n",
    "\n",
    "# Imprimir los resultados\n",
    "print(f\"Media: {media}\")\n",
    "print(f\"Mediana: {mediana}\")\n",
    "print(f\"Primer cuartil (Q1): {cuartil_1}\")\n",
    "print(f\"Tercer cuartil (Q3): {cuartil_3}\")\n",
    "print(f\"Varianza: {varianza}\")\n",
    "print(f\"Desviación estándar: {desviacion_estandar}\")\n",
    "print(f\"Rango intercuartílico (IQR): {rango_intercuartilico}\")\n",
    "print(f\"Rango: {rango}\")\n"
   ]
  },
  {
   "cell_type": "markdown",
   "metadata": {},
   "source": [
    "##### Tabla de frecuencias simples"
   ]
  },
  {
   "cell_type": "code",
   "execution_count": 4,
   "metadata": {},
   "outputs": [
    {
     "name": "stdout",
     "output_type": "stream",
     "text": [
      "Tabla de Frecuencias Simples:\n",
      " Datos\n",
      "20    2\n",
      "21    2\n",
      "22    4\n",
      "23    2\n",
      "24    2\n",
      "25    3\n",
      "26    2\n",
      "27    2\n",
      "28    2\n",
      "Name: count, dtype: int64\n"
     ]
    }
   ],
   "source": [
    "import pandas as pd\n",
    "\n",
    "# Suponiendo que tienes un conjunto más extenso de datos\n",
    "datos = [20, 22, 25, 22, 21, 23, 27, 25, 22, 24, 26, 28, 20, 21, 23, 24, 25, 26, 27, 28, 22]\n",
    "\n",
    "# Convertir la lista en un DataFrame\n",
    "df = pd.DataFrame(datos, columns=['Datos'])\n",
    "\n",
    "# Tabla de frecuencias simples\n",
    "tabla_frecuencia_simple = df['Datos'].value_counts().sort_index()\n",
    "\n",
    "# Mostrar la tabla de frecuencias\n",
    "print(\"Tabla de Frecuencias Simples:\\n\", tabla_frecuencia_simple)\n"
   ]
  },
  {
   "cell_type": "code",
   "execution_count": 5,
   "metadata": {},
   "outputs": [
    {
     "name": "stdout",
     "output_type": "stream",
     "text": [
      "Tabla de Frecuencias para Datos Agrupados:\n",
      " Datos\n",
      "[19, 21)    2\n",
      "[21, 23)    6\n",
      "[23, 25)    4\n",
      "[25, 27)    5\n",
      "[27, 29)    4\n",
      "Name: count, dtype: int64\n"
     ]
    }
   ],
   "source": [
    "# Definir los bins o intervalos\n",
    "bins = [19, 21, 23, 25, 27, 29]\n",
    "\n",
    "# Crear la tabla de frecuencias para datos agrupados\n",
    "tabla_frecuencias_agrupadas = pd.cut(df['Datos'], bins=bins, right=False).value_counts().sort_index()\n",
    "\n",
    "# Mostrar la tabla de frecuencias agrupadas\n",
    "print(\"Tabla de Frecuencias para Datos Agrupados:\\n\", tabla_frecuencias_agrupadas)\n"
   ]
  },
  {
   "cell_type": "markdown",
   "metadata": {},
   "source": [
    "Decidir el número correcto de bins (intervalos) para datos agrupados en un histograma o una tabla de frecuencias es una parte crucial del análisis de datos, ya que puede influir significativamente en la interpretación de los datos. No existe un método único y definitivo para elegir el número óptimo de bins, pero hay varias reglas prácticas y métodos automáticos que se pueden utilizar. Aquí describo algunos de los más comunes:\n",
    "\n",
    "### 1. Regla de Sturges\n",
    "La Regla de Sturges es útil para datos que se aproximan a una distribución normal y se basa en el logaritmo del tamaño de la muestra:\n",
    "$ k = 1 + \\log_2(n) $\n",
    "donde $ k $ es el número de bins y $ n $ es el tamaño de la muestra. En Python, puedes calcularlo así:\n",
    "\n",
    "```python\n",
    "import numpy as np\n",
    "\n",
    "n = len(datos)  # 'datos' es tu lista o array de datos\n",
    "k = int(1 + np.log2(n))\n",
    "\n",
    "print(\"Número recomendado de bins según la Regla de Sturges:\", k)\n",
    "```\n",
    "\n",
    "### 2. Regla de Scott\n",
    "La Regla de Scott elige el ancho del bin basándose en la desviación estándar de los datos y el tamaño de la muestra, asumiendo que los datos se distribuyen aproximadamente de forma normal:\n",
    "$ \\text{Ancho del bin} = \\frac{3.5 \\cdot \\sigma}{n^{1/3}} $\n",
    "donde $ \\sigma $ es la desviación estándar de los datos y $ n $ es el tamaño de la muestra. El número de bins se determina dividiendo el rango de los datos por el ancho del bin.\n",
    "\n",
    "### 3. Regla de la raíz cuadrada\n",
    "Esta regla sugiere que el número de bins debe ser el cuadrado de la raíz del número total de datos en el conjunto:\n",
    "$ k = \\sqrt{n} $\n",
    "Esta es una regla muy simple y un buen punto de partida si no se conocen otras propiedades de los datos.\n",
    "\n",
    "### 4. Método de Freedman-Diaconis\n",
    "Este método es particularmente útil para datos con distribuciones sesgadas o con outliers. El ancho del bin se calcula como:\n",
    "$ \\text{Ancho del bin} = \\frac{2 \\cdot IQR}{n^{1/3}} $\n",
    "donde $ IQR $ es el rango intercuartilico de los datos. Similar a la Regla de Scott, el número de bins se determina dividiendo el rango de los datos por el ancho del bin.\n",
    "\n"
   ]
  },
  {
   "cell_type": "code",
   "execution_count": null,
   "metadata": {},
   "outputs": [],
   "source": []
  },
  {
   "cell_type": "markdown",
   "metadata": {},
   "source": [
    "#### Base de datos\n",
    "\n",
    "La base de datos `tips` es un conjunto de datos bastante popular utilizado para análisis exploratorio de datos y ejemplos de visualización. Proviene de la biblioteca `seaborn`, una librería de visualización en Python. Este conjunto de datos contiene información sobre las propinas que los clientes dejaron a los meseros en un restaurante, junto con varios atributos relacionados con esas propinas. Aquí está una descripción más detallada de las variables incluidas en el conjunto de datos `tips`:\n",
    "\n",
    "1. **total_bill**: El costo total de la factura en dólares, incluyendo impuestos pero no la propina.\n",
    "\n",
    "2. **tip**: La propina en dólares dejada por el cliente. Es la variable de interés principal en muchos análisis que involucran este conjunto de datos.\n",
    "\n",
    "3. **sex**: El género del mesero, con categorías como `Male` o `Female`\n",
    "\n",
    "4. **smoker**: Indica si el grupo de clientes incluía fumadores. Puede tener valores `Yes` o `No`.\n",
    "\n",
    "5. **day**: El día de la semana en que se realizó la comida. Los valores incluyen `Thur` (jueves), `Fri` (viernes), `Sat` (sábado) o `Sun` (domingo).\n",
    "\n",
    "6. **time**: Momento del día en que se sirvió la comida, ya sea `Lunch` (almuerzo) o `Dinner` (cena).\n",
    "\n",
    "7. **size**: El tamaño del grupo de clientes en la mesa, representado por un número entero.\n",
    "\n"
   ]
  },
  {
   "cell_type": "code",
   "execution_count": 7,
   "metadata": {},
   "outputs": [
    {
     "name": "stdout",
     "output_type": "stream",
     "text": [
      "Tabla de Frecuencias para la columna 'tip':\n",
      " tip\n",
      "[1.0, 1.5)     17\n",
      "[1.5, 2.0)     28\n",
      "[2.0, 2.5)     53\n",
      "[2.5, 3.0)     25\n",
      "[3.0, 3.5)     49\n",
      "[3.5, 4.0)     19\n",
      "[4.0, 4.5)     21\n",
      "[4.5, 5.0)      4\n",
      "[5.0, 5.5)     16\n",
      "[5.5, 6.0)      4\n",
      "[6.0, 6.5)      1\n",
      "[6.5, 7.0)      4\n",
      "[7.0, 7.5)      0\n",
      "[7.5, 8.0)      1\n",
      "[8.0, 8.5)      0\n",
      "[8.5, 9.0)      0\n",
      "[9.0, 9.5)      1\n",
      "[9.5, 10.0)     0\n",
      "Name: count, dtype: int64\n"
     ]
    }
   ],
   "source": [
    "import seaborn as sns\n",
    "import pandas as pd\n",
    "import numpy as np\n",
    "\n",
    "# Cargar el conjunto de datos 'tips'\n",
    "tips = sns.load_dataset('tips')\n",
    "\n",
    "# Seleccionar la columna de interés (en este caso, 'tip')\n",
    "datos = tips['tip']\n",
    "\n",
    "# Determinar los bins de manera automática\n",
    "bins = np.histogram_bin_edges(datos, bins='auto')\n",
    "\n",
    "# Crear la tabla de frecuencias para datos agrupados utilizando los bins calculados automáticamente\n",
    "tabla_frecuencias_agrupadas = pd.cut(datos, bins=bins, right=False).value_counts().sort_index()\n",
    "\n",
    "# Mostrar la tabla de frecuencias agrupadas\n",
    "print(\"Tabla de Frecuencias para la columna 'tip':\\n\", tabla_frecuencias_agrupadas)\n"
   ]
  },
  {
   "cell_type": "code",
   "execution_count": 11,
   "metadata": {},
   "outputs": [
    {
     "name": "stdout",
     "output_type": "stream",
     "text": [
      "Tabla de Frecuencias para la columna 'tip' con menos bins:\n",
      " tip\n",
      "[1.0, 3.25)     161\n",
      "[3.25, 5.5)      71\n",
      "[5.5, 7.75)      10\n",
      "[7.75, 10.0)      1\n",
      "Name: count, dtype: int64\n"
     ]
    }
   ],
   "source": [
    "import seaborn as sns\n",
    "import pandas as pd\n",
    "\n",
    "# Cargar el conjunto de datos 'tips'\n",
    "tips = sns.load_dataset('tips')\n",
    "\n",
    "# Seleccionar la columna de interés (en este caso, 'tip')\n",
    "datos = tips['tip']\n",
    "\n",
    "# Definir un número fijo de bins\n",
    "numero_bins = 4  # Puedes ajustar este número según tus necesidades\n",
    "\n",
    "# Determinar los intervalos de los bins basándose en el número fijo de bins\n",
    "minimo, maximo = datos.min(), datos.max()\n",
    "ancho_bin = (maximo - minimo) / numero_bins\n",
    "bins = [minimo + i * ancho_bin for i in range(numero_bins + 1)]\n",
    "\n",
    "# Crear la tabla de frecuencias para datos agrupados utilizando los bins definidos\n",
    "tabla_frecuencias_agrupadas = pd.cut(datos, bins=bins, right=False, include_lowest=True).value_counts().sort_index()\n",
    "\n",
    "# Mostrar la tabla de frecuencias agrupadas\n",
    "print(\"Tabla de Frecuencias para la columna 'tip' con menos bins:\\n\", tabla_frecuencias_agrupadas)\n"
   ]
  },
  {
   "cell_type": "code",
   "execution_count": 12,
   "metadata": {},
   "outputs": [
    {
     "name": "stdout",
     "output_type": "stream",
     "text": [
      "Estadísticas Descriptivas:\n",
      "        total_bill         tip        size\n",
      "count  244.000000  244.000000  244.000000\n",
      "mean    19.785943    2.998279    2.569672\n",
      "std      8.902412    1.383638    0.951100\n",
      "min      3.070000    1.000000    1.000000\n",
      "25%     13.347500    2.000000    2.000000\n",
      "50%     17.795000    2.900000    2.000000\n",
      "75%     24.127500    3.562500    3.000000\n",
      "max     50.810000   10.000000    6.000000\n",
      "\n",
      "Proporción de Fumadores vs No Fumadores:\n",
      " smoker\n",
      "No     0.618852\n",
      "Yes    0.381148\n",
      "Name: proportion, dtype: float64\n",
      "\n",
      "Proporción de Género:\n",
      " sex\n",
      "Male      0.643443\n",
      "Female    0.356557\n",
      "Name: proportion, dtype: float64\n",
      "\n",
      "Proporción de Día:\n",
      " day\n",
      "Sat     0.356557\n",
      "Sun     0.311475\n",
      "Thur    0.254098\n",
      "Fri     0.077869\n",
      "Name: proportion, dtype: float64\n",
      "\n",
      "Proporción de Momento del Día:\n",
      " time\n",
      "Dinner    0.721311\n",
      "Lunch     0.278689\n",
      "Name: proportion, dtype: float64\n",
      "Media de total_bill: 19.78594262295082\n",
      "Media de tip: 2.99827868852459\n",
      "\n",
      "Mediana de total_bill: 17.795\n",
      "Mediana de tip: 2.9\n",
      "\n",
      "Moda de total_bill: 13.42\n",
      "Moda de tip: 2.0\n"
     ]
    }
   ],
   "source": [
    "import seaborn as sns\n",
    "import pandas as pd\n",
    "\n",
    "# Cargar el conjunto de datos 'tips'\n",
    "tips = sns.load_dataset('tips')\n",
    "\n",
    "# Estadísticas descriptivas básicas para variables numéricas\n",
    "estadisticas_descriptivas = tips.describe()\n",
    "\n",
    "# Proporción de las variables categóricas\n",
    "proporcion_fumadores = tips['smoker'].value_counts(normalize=True)\n",
    "proporcion_genero = tips['sex'].value_counts(normalize=True)\n",
    "proporcion_dia = tips['day'].value_counts(normalize=True)\n",
    "proporcion_comida = tips['time'].value_counts(normalize=True)\n",
    "\n",
    "# Imprimir las estadísticas descriptivas\n",
    "print(\"Estadísticas Descriptivas:\\n\", estadisticas_descriptivas)\n",
    "\n",
    "# Imprimir las proporciones de las variables categóricas\n",
    "print(\"\\nProporción de Fumadores vs No Fumadores:\\n\", proporcion_fumadores)\n",
    "print(\"\\nProporción de Género:\\n\", proporcion_genero)\n",
    "print(\"\\nProporción de Día:\\n\", proporcion_dia)\n",
    "print(\"\\nProporción de Momento del Día:\\n\", proporcion_comida)\n",
    "\n",
    "\n",
    "# Calcular la media de 'total_bill' y 'tip'\n",
    "media_total_bill = tips['total_bill'].mean()\n",
    "media_tip = tips['tip'].mean()\n",
    "\n",
    "# Calcular la mediana de 'total_bill' y 'tip'\n",
    "mediana_total_bill = tips['total_bill'].median()\n",
    "mediana_tip = tips['tip'].median()\n",
    "\n",
    "# Calcular la moda de 'total_bill' y 'tip'\n",
    "# La función mode() devuelve una Serie, por lo que usamos [0] para obtener el valor si existe una moda\n",
    "moda_total_bill = tips['total_bill'].mode()[0] if not tips['total_bill'].mode().empty else 'Sin moda'\n",
    "moda_tip = tips['tip'].mode()[0] if not tips['tip'].mode().empty else 'Sin moda'\n",
    "\n",
    "# Imprimir los resultados\n",
    "print(f\"Media de total_bill: {media_total_bill}\")\n",
    "print(f\"Media de tip: {media_tip}\\n\")\n",
    "\n",
    "print(f\"Mediana de total_bill: {mediana_total_bill}\")\n",
    "print(f\"Mediana de tip: {mediana_tip}\\n\")\n",
    "\n",
    "print(f\"Moda de total_bill: {moda_total_bill}\")\n",
    "print(f\"Moda de tip: {moda_tip}\")"
   ]
  }
 ],
 "metadata": {
  "kernelspec": {
   "display_name": "Python 3",
   "language": "python",
   "name": "python3"
  },
  "language_info": {
   "codemirror_mode": {
    "name": "ipython",
    "version": 3
   },
   "file_extension": ".py",
   "mimetype": "text/x-python",
   "name": "python",
   "nbconvert_exporter": "python",
   "pygments_lexer": "ipython3",
   "version": "3.11.8"
  }
 },
 "nbformat": 4,
 "nbformat_minor": 2
}
